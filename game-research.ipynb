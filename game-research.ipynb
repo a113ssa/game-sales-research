{
 "cells": [
  {
   "cell_type": "code",
   "execution_count": 1,
   "id": "54faa26b",
   "metadata": {},
   "outputs": [],
   "source": [
    "# to suppress warnings\n",
    "def warn(*args, **kwargs):\n",
    "    pass\n",
    "import warnings\n",
    "warnings.warn = warn"
   ]
  },
  {
   "cell_type": "code",
   "execution_count": 2,
   "id": "f366fe62",
   "metadata": {},
   "outputs": [],
   "source": [
    "import numpy as np\n",
    "import pandas as pd\n",
    "from sklearn.model_selection import train_test_split\n",
    "from sklearn.preprocessing import LabelEncoder, StandardScaler"
   ]
  },
  {
   "cell_type": "markdown",
   "id": "87a4184e",
   "metadata": {},
   "source": [
    "# Step 1: Define the problem\n",
    "\n",
    "Predict the success of a game based on its features."
   ]
  },
  {
   "cell_type": "markdown",
   "id": "07db7e55",
   "metadata": {},
   "source": [
    "# Step 2: Collect and preprocess the data"
   ]
  },
  {
   "cell_type": "markdown",
   "id": "5027126a",
   "metadata": {},
   "source": [
    "### Import Video Games Sales data from Kaggle \n",
    "It must be done using the following link: https://www.kaggle.com/datasets/kendallgillies/video-game-sales-and-ratings"
   ]
  },
  {
   "cell_type": "code",
   "execution_count": 3,
   "id": "a5b1312b",
   "metadata": {},
   "outputs": [
    {
     "data": {
      "text/html": [
       "<div>\n",
       "<style scoped>\n",
       "    .dataframe tbody tr th:only-of-type {\n",
       "        vertical-align: middle;\n",
       "    }\n",
       "\n",
       "    .dataframe tbody tr th {\n",
       "        vertical-align: top;\n",
       "    }\n",
       "\n",
       "    .dataframe thead th {\n",
       "        text-align: right;\n",
       "    }\n",
       "</style>\n",
       "<table border=\"1\" class=\"dataframe\">\n",
       "  <thead>\n",
       "    <tr style=\"text-align: right;\">\n",
       "      <th></th>\n",
       "      <th>Name</th>\n",
       "      <th>Platform</th>\n",
       "      <th>Year_of_Release</th>\n",
       "      <th>Genre</th>\n",
       "      <th>Publisher</th>\n",
       "      <th>NA_Sales</th>\n",
       "      <th>EU_Sales</th>\n",
       "      <th>JP_Sales</th>\n",
       "      <th>Other_Sales</th>\n",
       "      <th>Global_Sales</th>\n",
       "      <th>Critic_Score</th>\n",
       "      <th>Critic_Count</th>\n",
       "      <th>User_Score</th>\n",
       "      <th>User_Count</th>\n",
       "      <th>Rating</th>\n",
       "    </tr>\n",
       "  </thead>\n",
       "  <tbody>\n",
       "    <tr>\n",
       "      <th>0</th>\n",
       "      <td>Wii Sports</td>\n",
       "      <td>Wii</td>\n",
       "      <td>2006.0</td>\n",
       "      <td>Sports</td>\n",
       "      <td>Nintendo</td>\n",
       "      <td>41.36</td>\n",
       "      <td>28.96</td>\n",
       "      <td>3.77</td>\n",
       "      <td>8.45</td>\n",
       "      <td>82.54</td>\n",
       "      <td>76.0</td>\n",
       "      <td>51.0</td>\n",
       "      <td>8.0</td>\n",
       "      <td>324.0</td>\n",
       "      <td>E</td>\n",
       "    </tr>\n",
       "    <tr>\n",
       "      <th>1</th>\n",
       "      <td>Super Mario Bros.</td>\n",
       "      <td>NES</td>\n",
       "      <td>1985.0</td>\n",
       "      <td>Platform</td>\n",
       "      <td>Nintendo</td>\n",
       "      <td>29.08</td>\n",
       "      <td>3.58</td>\n",
       "      <td>6.81</td>\n",
       "      <td>0.77</td>\n",
       "      <td>40.24</td>\n",
       "      <td>NaN</td>\n",
       "      <td>NaN</td>\n",
       "      <td>NaN</td>\n",
       "      <td>NaN</td>\n",
       "      <td>NaN</td>\n",
       "    </tr>\n",
       "    <tr>\n",
       "      <th>2</th>\n",
       "      <td>Mario Kart Wii</td>\n",
       "      <td>Wii</td>\n",
       "      <td>2008.0</td>\n",
       "      <td>Racing</td>\n",
       "      <td>Nintendo</td>\n",
       "      <td>15.68</td>\n",
       "      <td>12.80</td>\n",
       "      <td>3.79</td>\n",
       "      <td>3.29</td>\n",
       "      <td>35.57</td>\n",
       "      <td>82.0</td>\n",
       "      <td>73.0</td>\n",
       "      <td>8.3</td>\n",
       "      <td>712.0</td>\n",
       "      <td>E</td>\n",
       "    </tr>\n",
       "  </tbody>\n",
       "</table>\n",
       "</div>"
      ],
      "text/plain": [
       "                Name Platform  Year_of_Release     Genre Publisher  NA_Sales  \\\n",
       "0         Wii Sports      Wii           2006.0    Sports  Nintendo     41.36   \n",
       "1  Super Mario Bros.      NES           1985.0  Platform  Nintendo     29.08   \n",
       "2     Mario Kart Wii      Wii           2008.0    Racing  Nintendo     15.68   \n",
       "\n",
       "   EU_Sales  JP_Sales  Other_Sales  Global_Sales  Critic_Score  Critic_Count  \\\n",
       "0     28.96      3.77         8.45         82.54          76.0          51.0   \n",
       "1      3.58      6.81         0.77         40.24           NaN           NaN   \n",
       "2     12.80      3.79         3.29         35.57          82.0          73.0   \n",
       "\n",
       "   User_Score  User_Count Rating  \n",
       "0         8.0       324.0      E  \n",
       "1         NaN         NaN    NaN  \n",
       "2         8.3       712.0      E  "
      ]
     },
     "execution_count": 3,
     "metadata": {},
     "output_type": "execute_result"
    }
   ],
   "source": [
    "df = pd.read_csv('Video_Game_Sales_as_of_Jan_2017.csv')\n",
    "df.head(3)"
   ]
  },
  {
   "cell_type": "markdown",
   "id": "5020e851",
   "metadata": {},
   "source": [
    "### Clean and preprocess the data"
   ]
  },
  {
   "cell_type": "markdown",
   "id": "f2dc5075",
   "metadata": {},
   "source": [
    "1) Drop unnecessary columns"
   ]
  },
  {
   "cell_type": "code",
   "execution_count": 4,
   "id": "f272d172",
   "metadata": {},
   "outputs": [
    {
     "data": {
      "text/html": [
       "<div>\n",
       "<style scoped>\n",
       "    .dataframe tbody tr th:only-of-type {\n",
       "        vertical-align: middle;\n",
       "    }\n",
       "\n",
       "    .dataframe tbody tr th {\n",
       "        vertical-align: top;\n",
       "    }\n",
       "\n",
       "    .dataframe thead th {\n",
       "        text-align: right;\n",
       "    }\n",
       "</style>\n",
       "<table border=\"1\" class=\"dataframe\">\n",
       "  <thead>\n",
       "    <tr style=\"text-align: right;\">\n",
       "      <th></th>\n",
       "      <th>Platform</th>\n",
       "      <th>Year_of_Release</th>\n",
       "      <th>Genre</th>\n",
       "      <th>Publisher</th>\n",
       "      <th>Global_Sales</th>\n",
       "      <th>Critic_Score</th>\n",
       "      <th>Critic_Count</th>\n",
       "      <th>User_Score</th>\n",
       "      <th>User_Count</th>\n",
       "      <th>Rating</th>\n",
       "    </tr>\n",
       "  </thead>\n",
       "  <tbody>\n",
       "    <tr>\n",
       "      <th>0</th>\n",
       "      <td>Wii</td>\n",
       "      <td>2006.0</td>\n",
       "      <td>Sports</td>\n",
       "      <td>Nintendo</td>\n",
       "      <td>82.54</td>\n",
       "      <td>76.0</td>\n",
       "      <td>51.0</td>\n",
       "      <td>8.0</td>\n",
       "      <td>324.0</td>\n",
       "      <td>E</td>\n",
       "    </tr>\n",
       "    <tr>\n",
       "      <th>1</th>\n",
       "      <td>NES</td>\n",
       "      <td>1985.0</td>\n",
       "      <td>Platform</td>\n",
       "      <td>Nintendo</td>\n",
       "      <td>40.24</td>\n",
       "      <td>NaN</td>\n",
       "      <td>NaN</td>\n",
       "      <td>NaN</td>\n",
       "      <td>NaN</td>\n",
       "      <td>NaN</td>\n",
       "    </tr>\n",
       "    <tr>\n",
       "      <th>2</th>\n",
       "      <td>Wii</td>\n",
       "      <td>2008.0</td>\n",
       "      <td>Racing</td>\n",
       "      <td>Nintendo</td>\n",
       "      <td>35.57</td>\n",
       "      <td>82.0</td>\n",
       "      <td>73.0</td>\n",
       "      <td>8.3</td>\n",
       "      <td>712.0</td>\n",
       "      <td>E</td>\n",
       "    </tr>\n",
       "  </tbody>\n",
       "</table>\n",
       "</div>"
      ],
      "text/plain": [
       "  Platform  Year_of_Release     Genre Publisher  Global_Sales  Critic_Score  \\\n",
       "0      Wii           2006.0    Sports  Nintendo         82.54          76.0   \n",
       "1      NES           1985.0  Platform  Nintendo         40.24           NaN   \n",
       "2      Wii           2008.0    Racing  Nintendo         35.57          82.0   \n",
       "\n",
       "   Critic_Count  User_Score  User_Count Rating  \n",
       "0          51.0         8.0       324.0      E  \n",
       "1           NaN         NaN         NaN    NaN  \n",
       "2          73.0         8.3       712.0      E  "
      ]
     },
     "execution_count": 4,
     "metadata": {},
     "output_type": "execute_result"
    }
   ],
   "source": [
    "df = df.drop(columns=['Name', 'NA_Sales', 'EU_Sales', 'JP_Sales', 'Other_Sales'])\n",
    "df.head(3)"
   ]
  },
  {
   "cell_type": "markdown",
   "id": "d6ec1e46",
   "metadata": {},
   "source": [
    "2) Check for missing values"
   ]
  },
  {
   "cell_type": "code",
   "execution_count": 5,
   "id": "686c9a5d",
   "metadata": {},
   "outputs": [
    {
     "name": "stdout",
     "output_type": "stream",
     "text": [
      "Platform              0\n",
      "Year_of_Release       8\n",
      "Genre                 0\n",
      "Publisher             1\n",
      "Global_Sales          0\n",
      "Critic_Score       9080\n",
      "Critic_Count       9080\n",
      "User_Score         9618\n",
      "User_Count         9618\n",
      "Rating             7164\n",
      "dtype: int64\n"
     ]
    }
   ],
   "source": [
    "print(df.isna().sum())"
   ]
  },
  {
   "cell_type": "markdown",
   "id": "4648e596",
   "metadata": {},
   "source": [
    "3) Drop rows with missing values in Critic_Score, Critic_Count, User_Score, User_Count and Rating columns"
   ]
  },
  {
   "cell_type": "code",
   "execution_count": 6,
   "id": "b8045b3d",
   "metadata": {},
   "outputs": [
    {
     "data": {
      "text/html": [
       "<div>\n",
       "<style scoped>\n",
       "    .dataframe tbody tr th:only-of-type {\n",
       "        vertical-align: middle;\n",
       "    }\n",
       "\n",
       "    .dataframe tbody tr th {\n",
       "        vertical-align: top;\n",
       "    }\n",
       "\n",
       "    .dataframe thead th {\n",
       "        text-align: right;\n",
       "    }\n",
       "</style>\n",
       "<table border=\"1\" class=\"dataframe\">\n",
       "  <thead>\n",
       "    <tr style=\"text-align: right;\">\n",
       "      <th></th>\n",
       "      <th>Platform</th>\n",
       "      <th>Year_of_Release</th>\n",
       "      <th>Genre</th>\n",
       "      <th>Publisher</th>\n",
       "      <th>Global_Sales</th>\n",
       "      <th>Critic_Score</th>\n",
       "      <th>Critic_Count</th>\n",
       "      <th>User_Score</th>\n",
       "      <th>User_Count</th>\n",
       "      <th>Rating</th>\n",
       "    </tr>\n",
       "  </thead>\n",
       "  <tbody>\n",
       "    <tr>\n",
       "      <th>0</th>\n",
       "      <td>Wii</td>\n",
       "      <td>2006.0</td>\n",
       "      <td>Sports</td>\n",
       "      <td>Nintendo</td>\n",
       "      <td>82.54</td>\n",
       "      <td>76.0</td>\n",
       "      <td>51.0</td>\n",
       "      <td>8.0</td>\n",
       "      <td>324.0</td>\n",
       "      <td>E</td>\n",
       "    </tr>\n",
       "    <tr>\n",
       "      <th>2</th>\n",
       "      <td>Wii</td>\n",
       "      <td>2008.0</td>\n",
       "      <td>Racing</td>\n",
       "      <td>Nintendo</td>\n",
       "      <td>35.57</td>\n",
       "      <td>82.0</td>\n",
       "      <td>73.0</td>\n",
       "      <td>8.3</td>\n",
       "      <td>712.0</td>\n",
       "      <td>E</td>\n",
       "    </tr>\n",
       "    <tr>\n",
       "      <th>3</th>\n",
       "      <td>Wii</td>\n",
       "      <td>2009.0</td>\n",
       "      <td>Sports</td>\n",
       "      <td>Nintendo</td>\n",
       "      <td>32.78</td>\n",
       "      <td>80.0</td>\n",
       "      <td>73.0</td>\n",
       "      <td>8.0</td>\n",
       "      <td>193.0</td>\n",
       "      <td>E</td>\n",
       "    </tr>\n",
       "  </tbody>\n",
       "</table>\n",
       "</div>"
      ],
      "text/plain": [
       "  Platform  Year_of_Release   Genre Publisher  Global_Sales  Critic_Score  \\\n",
       "0      Wii           2006.0  Sports  Nintendo         82.54          76.0   \n",
       "2      Wii           2008.0  Racing  Nintendo         35.57          82.0   \n",
       "3      Wii           2009.0  Sports  Nintendo         32.78          80.0   \n",
       "\n",
       "   Critic_Count  User_Score  User_Count Rating  \n",
       "0          51.0         8.0       324.0      E  \n",
       "2          73.0         8.3       712.0      E  \n",
       "3          73.0         8.0       193.0      E  "
      ]
     },
     "execution_count": 6,
     "metadata": {},
     "output_type": "execute_result"
    }
   ],
   "source": [
    "df = df.dropna(subset=['Critic_Score', 'Critic_Count', 'User_Score', 'User_Count', 'Rating'])\n",
    "df.head(3)"
   ]
  },
  {
   "cell_type": "markdown",
   "id": "f04d99d9",
   "metadata": {},
   "source": [
    "4) Create a binary label for success:"
   ]
  },
  {
   "cell_type": "code",
   "execution_count": 7,
   "id": "f435fd2f",
   "metadata": {},
   "outputs": [
    {
     "data": {
      "text/html": [
       "<div>\n",
       "<style scoped>\n",
       "    .dataframe tbody tr th:only-of-type {\n",
       "        vertical-align: middle;\n",
       "    }\n",
       "\n",
       "    .dataframe tbody tr th {\n",
       "        vertical-align: top;\n",
       "    }\n",
       "\n",
       "    .dataframe thead th {\n",
       "        text-align: right;\n",
       "    }\n",
       "</style>\n",
       "<table border=\"1\" class=\"dataframe\">\n",
       "  <thead>\n",
       "    <tr style=\"text-align: right;\">\n",
       "      <th></th>\n",
       "      <th>Platform</th>\n",
       "      <th>Year_of_Release</th>\n",
       "      <th>Genre</th>\n",
       "      <th>Publisher</th>\n",
       "      <th>Critic_Score</th>\n",
       "      <th>Critic_Count</th>\n",
       "      <th>User_Score</th>\n",
       "      <th>User_Count</th>\n",
       "      <th>Rating</th>\n",
       "      <th>Successful</th>\n",
       "    </tr>\n",
       "  </thead>\n",
       "  <tbody>\n",
       "    <tr>\n",
       "      <th>0</th>\n",
       "      <td>Wii</td>\n",
       "      <td>2006.0</td>\n",
       "      <td>Sports</td>\n",
       "      <td>Nintendo</td>\n",
       "      <td>76.0</td>\n",
       "      <td>51.0</td>\n",
       "      <td>8.0</td>\n",
       "      <td>324.0</td>\n",
       "      <td>E</td>\n",
       "      <td>1</td>\n",
       "    </tr>\n",
       "    <tr>\n",
       "      <th>2</th>\n",
       "      <td>Wii</td>\n",
       "      <td>2008.0</td>\n",
       "      <td>Racing</td>\n",
       "      <td>Nintendo</td>\n",
       "      <td>82.0</td>\n",
       "      <td>73.0</td>\n",
       "      <td>8.3</td>\n",
       "      <td>712.0</td>\n",
       "      <td>E</td>\n",
       "      <td>1</td>\n",
       "    </tr>\n",
       "    <tr>\n",
       "      <th>3</th>\n",
       "      <td>Wii</td>\n",
       "      <td>2009.0</td>\n",
       "      <td>Sports</td>\n",
       "      <td>Nintendo</td>\n",
       "      <td>80.0</td>\n",
       "      <td>73.0</td>\n",
       "      <td>8.0</td>\n",
       "      <td>193.0</td>\n",
       "      <td>E</td>\n",
       "      <td>1</td>\n",
       "    </tr>\n",
       "  </tbody>\n",
       "</table>\n",
       "</div>"
      ],
      "text/plain": [
       "  Platform  Year_of_Release   Genre Publisher  Critic_Score  Critic_Count  \\\n",
       "0      Wii           2006.0  Sports  Nintendo          76.0          51.0   \n",
       "2      Wii           2008.0  Racing  Nintendo          82.0          73.0   \n",
       "3      Wii           2009.0  Sports  Nintendo          80.0          73.0   \n",
       "\n",
       "   User_Score  User_Count Rating  Successful  \n",
       "0         8.0       324.0      E           1  \n",
       "2         8.3       712.0      E           1  \n",
       "3         8.0       193.0      E           1  "
      ]
     },
     "execution_count": 7,
     "metadata": {},
     "output_type": "execute_result"
    }
   ],
   "source": [
    "# Define a sales threshold for a game to be considered successful\n",
    "sales_threshold = 1.0\n",
    "\n",
    "# Create a new binary column Successful based on the sales threshold\n",
    "df['Successful'] = df['Global_Sales'].apply(lambda x: 1 if x >= sales_threshold else 0)\n",
    "\n",
    "# Drop the Global_Sales column as it's not needed anymore\n",
    "df = df.drop(columns=['Global_Sales'])\n",
    "\n",
    "df.head(3)"
   ]
  },
  {
   "cell_type": "markdown",
   "id": "04d898e6",
   "metadata": {},
   "source": [
    "5) Encode categorical features using LabelEncoder:"
   ]
  },
  {
   "cell_type": "code",
   "execution_count": 8,
   "id": "023407ae",
   "metadata": {},
   "outputs": [
    {
     "data": {
      "text/html": [
       "<div>\n",
       "<style scoped>\n",
       "    .dataframe tbody tr th:only-of-type {\n",
       "        vertical-align: middle;\n",
       "    }\n",
       "\n",
       "    .dataframe tbody tr th {\n",
       "        vertical-align: top;\n",
       "    }\n",
       "\n",
       "    .dataframe thead th {\n",
       "        text-align: right;\n",
       "    }\n",
       "</style>\n",
       "<table border=\"1\" class=\"dataframe\">\n",
       "  <thead>\n",
       "    <tr style=\"text-align: right;\">\n",
       "      <th></th>\n",
       "      <th>Platform</th>\n",
       "      <th>Year_of_Release</th>\n",
       "      <th>Genre</th>\n",
       "      <th>Publisher</th>\n",
       "      <th>Critic_Score</th>\n",
       "      <th>Critic_Count</th>\n",
       "      <th>User_Score</th>\n",
       "      <th>User_Count</th>\n",
       "      <th>Rating</th>\n",
       "      <th>Successful</th>\n",
       "    </tr>\n",
       "  </thead>\n",
       "  <tbody>\n",
       "    <tr>\n",
       "      <th>0</th>\n",
       "      <td>12</td>\n",
       "      <td>14</td>\n",
       "      <td>10</td>\n",
       "      <td>171</td>\n",
       "      <td>76.0</td>\n",
       "      <td>51.0</td>\n",
       "      <td>8.0</td>\n",
       "      <td>324.0</td>\n",
       "      <td>1</td>\n",
       "      <td>1</td>\n",
       "    </tr>\n",
       "    <tr>\n",
       "      <th>2</th>\n",
       "      <td>12</td>\n",
       "      <td>16</td>\n",
       "      <td>6</td>\n",
       "      <td>171</td>\n",
       "      <td>82.0</td>\n",
       "      <td>73.0</td>\n",
       "      <td>8.3</td>\n",
       "      <td>712.0</td>\n",
       "      <td>1</td>\n",
       "      <td>1</td>\n",
       "    </tr>\n",
       "    <tr>\n",
       "      <th>3</th>\n",
       "      <td>12</td>\n",
       "      <td>17</td>\n",
       "      <td>10</td>\n",
       "      <td>171</td>\n",
       "      <td>80.0</td>\n",
       "      <td>73.0</td>\n",
       "      <td>8.0</td>\n",
       "      <td>193.0</td>\n",
       "      <td>1</td>\n",
       "      <td>1</td>\n",
       "    </tr>\n",
       "  </tbody>\n",
       "</table>\n",
       "</div>"
      ],
      "text/plain": [
       "   Platform  Year_of_Release  Genre  Publisher  Critic_Score  Critic_Count  \\\n",
       "0        12               14     10        171          76.0          51.0   \n",
       "2        12               16      6        171          82.0          73.0   \n",
       "3        12               17     10        171          80.0          73.0   \n",
       "\n",
       "   User_Score  User_Count  Rating  Successful  \n",
       "0         8.0       324.0       1           1  \n",
       "2         8.3       712.0       1           1  \n",
       "3         8.0       193.0       1           1  "
      ]
     },
     "execution_count": 8,
     "metadata": {},
     "output_type": "execute_result"
    }
   ],
   "source": [
    "# Create a LabelEncoder object\n",
    "encoder = LabelEncoder()\n",
    "\n",
    "# Encode Platform, Genre, and Rating columns\n",
    "df['Platform'] = encoder.fit_transform(df['Platform'])\n",
    "df['Genre'] = encoder.fit_transform(df['Genre'])\n",
    "df['Rating'] = encoder.fit_transform(df['Rating'])\n",
    "df['Year_of_Release'] = encoder.fit_transform(df['Year_of_Release'])\n",
    "df['Publisher'] = encoder.fit_transform(df['Publisher'])\n",
    "\n",
    "df.head(3)"
   ]
  },
  {
   "cell_type": "markdown",
   "id": "91e89967",
   "metadata": {},
   "source": [
    "6) Scale the numerical features using StandardScaler:"
   ]
  },
  {
   "cell_type": "code",
   "execution_count": 9,
   "id": "a52eebb7",
   "metadata": {},
   "outputs": [
    {
     "data": {
      "text/html": [
       "<div>\n",
       "<style scoped>\n",
       "    .dataframe tbody tr th:only-of-type {\n",
       "        vertical-align: middle;\n",
       "    }\n",
       "\n",
       "    .dataframe tbody tr th {\n",
       "        vertical-align: top;\n",
       "    }\n",
       "\n",
       "    .dataframe thead th {\n",
       "        text-align: right;\n",
       "    }\n",
       "</style>\n",
       "<table border=\"1\" class=\"dataframe\">\n",
       "  <thead>\n",
       "    <tr style=\"text-align: right;\">\n",
       "      <th></th>\n",
       "      <th>Platform</th>\n",
       "      <th>Year_of_Release</th>\n",
       "      <th>Genre</th>\n",
       "      <th>Publisher</th>\n",
       "      <th>Critic_Score</th>\n",
       "      <th>Critic_Count</th>\n",
       "      <th>User_Score</th>\n",
       "      <th>User_Count</th>\n",
       "      <th>Rating</th>\n",
       "      <th>Successful</th>\n",
       "    </tr>\n",
       "  </thead>\n",
       "  <tbody>\n",
       "    <tr>\n",
       "      <th>0</th>\n",
       "      <td>12</td>\n",
       "      <td>14</td>\n",
       "      <td>10</td>\n",
       "      <td>171</td>\n",
       "      <td>0.415287</td>\n",
       "      <td>51.0</td>\n",
       "      <td>0.570220</td>\n",
       "      <td>324.0</td>\n",
       "      <td>1</td>\n",
       "      <td>1</td>\n",
       "    </tr>\n",
       "    <tr>\n",
       "      <th>2</th>\n",
       "      <td>12</td>\n",
       "      <td>16</td>\n",
       "      <td>6</td>\n",
       "      <td>171</td>\n",
       "      <td>0.847089</td>\n",
       "      <td>73.0</td>\n",
       "      <td>0.777919</td>\n",
       "      <td>712.0</td>\n",
       "      <td>1</td>\n",
       "      <td>1</td>\n",
       "    </tr>\n",
       "    <tr>\n",
       "      <th>3</th>\n",
       "      <td>12</td>\n",
       "      <td>17</td>\n",
       "      <td>10</td>\n",
       "      <td>171</td>\n",
       "      <td>0.703155</td>\n",
       "      <td>73.0</td>\n",
       "      <td>0.570220</td>\n",
       "      <td>193.0</td>\n",
       "      <td>1</td>\n",
       "      <td>1</td>\n",
       "    </tr>\n",
       "  </tbody>\n",
       "</table>\n",
       "</div>"
      ],
      "text/plain": [
       "   Platform  Year_of_Release  Genre  Publisher  Critic_Score  Critic_Count  \\\n",
       "0        12               14     10        171      0.415287          51.0   \n",
       "2        12               16      6        171      0.847089          73.0   \n",
       "3        12               17     10        171      0.703155          73.0   \n",
       "\n",
       "   User_Score  User_Count  Rating  Successful  \n",
       "0    0.570220       324.0       1           1  \n",
       "2    0.777919       712.0       1           1  \n",
       "3    0.570220       193.0       1           1  "
      ]
     },
     "execution_count": 9,
     "metadata": {},
     "output_type": "execute_result"
    }
   ],
   "source": [
    "# Create a StandardScaler object\n",
    "scaler = StandardScaler()\n",
    "\n",
    "# Scale 'Critic_Score' and 'User_Score' columns\n",
    "df[['Critic_Score', 'User_Score']] = scaler.fit_transform(df[['Critic_Score', 'User_Score']])\n",
    "df.head(3)"
   ]
  },
  {
   "cell_type": "markdown",
   "id": "336e3b51",
   "metadata": {},
   "source": [
    "7) Split the data into features and labels, and then into training and testing sets:"
   ]
  },
  {
   "cell_type": "code",
   "execution_count": 10,
   "id": "de45d9d9",
   "metadata": {},
   "outputs": [],
   "source": [
    "# Separate features and labels\n",
    "X = df.drop(columns=['Successful'])\n",
    "y = df['Successful']\n",
    "\n",
    "# Split the data into training and testing sets (80% training, 20% testing)\n",
    "X_train, X_test, y_train, y_test = train_test_split(X, y, test_size=0.2, random_state=42)"
   ]
  },
  {
   "cell_type": "markdown",
   "id": "9dfe0c9c",
   "metadata": {},
   "source": [
    "# Step 3: Select a model"
   ]
  },
  {
   "cell_type": "markdown",
   "id": "725aacc7",
   "metadata": {},
   "source": [
    "<details>\n",
    "  <summary>►Why choose a logistic regression model?</summary>\n",
    "Selecting an appropriate model is crucial for the success of a machine learning project. The choice of the model depends on the problem type, dataset size, data distribution, and the complexity of the problem.\n",
    "\n",
    "For this problem, we're trying to predict whether a game will be successful or not, which is a binary classification task. Logistic Regression is a simple and widely used algorithm for binary classification problems that works well when the relationship between the features and the target variable can be captured by a linear function. Here are some reasons why Logistic Regression might be a good choice for this problem:\n",
    "\n",
    "- Interpretability: Logistic Regression provides a simple and interpretable model. It estimates the probabilities of the classes by calculating the linear combination of the features and applying the logistic function (sigmoid function). This allows us to see the contribution of each feature towards the probability of success and helps us to identify the most important features that affect a game's success.\n",
    "\n",
    "- Efficiency: Logistic Regression is computationally efficient, making it suitable for cases when you have a large dataset or limited computational resources. It is a relatively fast algorithm because it only requires a single pass through the data to estimate the model parameters.\n",
    "\n",
    "- Baseline model: Logistic Regression is often used as a baseline model for classification tasks. It is a good starting point to evaluate the performance of the model on the dataset. If the performance is satisfactory, you can use the Logistic Regression model as-is, or you can explore more complex models to see if they can achieve better results.\n",
    "\n",
    "- Regularization: Logistic Regression supports regularization techniques like L1 (Lasso) and L2 (Ridge) regularization, which can help prevent overfitting and improve the model's generalization to new data.\n",
    "\n",
    "However, it's important to note that Logistic Regression has its limitations. It assumes a linear relationship between the features and the target variable, and it might not perform well when there are complex interactions between features or when the relationship is non-linear. In such cases, other models like Random Forest, Support Vector Machines, or Neural Networks might perform better.\n",
    "\n",
    "In summary, Logistic Regression is a good starting point for this binary classification problem due to its interpretability, efficiency, and simplicity. After evaluating the performance of the Logistic Regression model, you can compare it with other models to see if they yield better results."
   ]
  },
  {
   "cell_type": "markdown",
   "id": "e595f18c",
   "metadata": {},
   "source": [
    "# Step 4: Train the model"
   ]
  },
  {
   "cell_type": "code",
   "execution_count": 11,
   "id": "909843cd",
   "metadata": {},
   "outputs": [],
   "source": [
    "from sklearn.linear_model import LogisticRegression\n",
    "from sklearn.metrics import accuracy_score, precision_score, recall_score, f1_score, classification_report\n",
    "\n",
    "# Create a Logistic Regression object with L2 (Ridge) regularization\n",
    "logreg = LogisticRegression(penalty='l2', C=1.0, random_state=42, max_iter=300)"
   ]
  },
  {
   "cell_type": "markdown",
   "id": "d8c59426",
   "metadata": {},
   "source": [
    "> **_NOTE:_**   \n",
    "> _penalty_: specifies the type of regularization applied ('l1' for Lasso, 'l2' for Ridge, or 'none' for no regularization). By default, it's set to 'l2'. <br>\n",
    "> _C_: is the inverse of the regularization strength (a smaller value means stronger regularization). By default, it's set to 1.0."
   ]
  },
  {
   "cell_type": "code",
   "execution_count": 12,
   "id": "76f79645",
   "metadata": {},
   "outputs": [],
   "source": [
    "# Standardize features before training the model.\n",
    "scaler = StandardScaler()\n",
    "X_train_scaled = scaler.fit_transform(X_train)\n",
    "X_test_scaled = scaler.transform(X_test)\n",
    "\n",
    "# Fit the model to the training data\n",
    "logreg.fit(X_train_scaled, y_train)\n",
    "\n",
    "# Make predictions on the testing set\n",
    "y_pred = logreg.predict(X_test_scaled)"
   ]
  },
  {
   "cell_type": "markdown",
   "id": "451b2690",
   "metadata": {},
   "source": [
    "# Step 5: Evaluate the model using various metrics:"
   ]
  },
  {
   "cell_type": "markdown",
   "id": "0887aa62",
   "metadata": {},
   "source": [
    "<details>\n",
    "  <summary>►Accuracy, Precision, Recall, F1-score explanation</summary>\n",
    "\n",
    "Accuracy, precision, recall, and F1-score are common evaluation metrics used in classification tasks to assess the performance of a machine learning model. Understanding these metrics helps you interpret the results, compare different models, and decide on the best model for your problem.\n",
    "\n",
    "- Accuracy: Accuracy is the ratio of correctly predicted instances to the total instances in the dataset. It measures how well the model has predicted both positive and negative classes. However, accuracy can be misleading when dealing with imbalanced datasets, where one class has a much higher frequency than the other. In such cases, a high accuracy may not indicate a good model.\n",
    "\n",
    "> Formula: (True Positives + True Negatives) / (True Positives + False Positives + True Negatives + False Negatives)\n",
    "\n",
    "- Precision: Precision is the ratio of correctly predicted positive instances to the total predicted positive instances. It measures the proportion of true positive predictions among all positive predictions. A high precision indicates that when the model predicts the positive class, it is likely to be correct.\n",
    "\n",
    "> Formula: True Positives / (True Positives + False Positives)\n",
    "\n",
    "- Recall (Sensitivity, True Positive Rate): Recall is the ratio of correctly predicted positive instances to the total actual positive instances. It measures the ability of the model to identify all the positive instances. A high recall indicates that the model is good at finding the positive instances.\n",
    "\n",
    "> Formula: True Positives / (True Positives + False Negatives)\n",
    "\n",
    "- F1-score: F1-score is the harmonic mean of precision and recall. It balances both precision and recall, giving equal importance to both. F1-score is especially useful when dealing with imbalanced datasets, as it provides a single metric that considers both false positives and false negatives. A high F1-score indicates that the model has both high precision and recall.\n",
    "\n",
    "> Formula: 2 * (Precision * Recall) / (Precision + Recall)\n",
    "\n",
    "These metrics are important because they provide different perspectives on the model's performance. While accuracy can give a general idea of the model's performance, precision, recall, and F1-score help you better understand how the model is performing on the positive class, which is often more important in real-world applications.\n",
    "\n",
    "By analyzing these metrics, you can decide if the model meets your requirements or if you need to fine-tune it, try other algorithms, or reframe the problem. In some cases, you might prioritize one metric over others, depending on the problem domain and the specific costs of false positives and false negatives.\n",
    "</details>"
   ]
  },
  {
   "cell_type": "markdown",
   "id": "00188cb1",
   "metadata": {},
   "source": [
    "<details>\n",
    "  <summary>►Guideline for interpreting these values</summary>\n",
    "    The values of evaluation metrics like accuracy, precision, recall, and F1-score range between 0 and 1. A higher value typically indicates better performance. However, determining what constitutes a \"good\" result depends on the context, problem domain, and specific requirements of the project. Here's a general guideline for interpreting these values:\n",
    "\n",
    "- Accuracy: An accuracy of 1.0 means that the model has correctly classified all instances in the dataset. However, achieving perfect accuracy is rare and often not realistic. As a rule of thumb, if the accuracy is significantly higher than the proportion of the majority class in the dataset, it can be considered a good result. For example, if you have a balanced dataset with 50% positive and 50% negative instances, an accuracy above 0.7 or 0.8 may be considered good.\n",
    "\n",
    "- Precision: A precision of 1.0 means that all positive predictions made by the model are correct. In practice, a precision value of 0.8 or higher is generally considered good. However, the importance of precision depends on the problem domain. For example, in a spam detection system, high precision is crucial to avoid marking legitimate emails as spam.\n",
    "\n",
    "- Recall: A recall of 1.0 means that the model has identified all positive instances in the dataset. Similar to precision, a recall value of 0.8 or higher is generally considered good. The importance of recall depends on the problem domain as well. In medical diagnosis or fraud detection, high recall is critical to ensure all positive cases are identified.\n",
    "\n",
    "- F1-score: An F1-score of 1.0 indicates perfect precision and recall. In practice, an F1-score above 0.7 or 0.8 can be considered good. However, the F1-score should be evaluated in the context of the problem and the balance between precision and recall. For imbalanced datasets or problems where both false positives and false negatives are costly, the F1-score is a more informative metric than accuracy.\n",
    "\n",
    "It's important to note that these metrics should not be evaluated in isolation but should be considered together to get a comprehensive view of the model's performance. Depending on the specific problem and requirements, you may need to prioritize one metric over others or find a balance between them. Additionally, comparing these metrics across different models can help you choose the best model for your problem.\n",
    "</details>"
   ]
  },
  {
   "cell_type": "markdown",
   "id": "55cf5143",
   "metadata": {},
   "source": [
    "<details>\n",
    "  <summary>►How to choose right value for zero_division parameter</summary>\n",
    "The zero_division parameter allows you to specify a value to return when the metric is undefined due to having no predicted samples (for precision) or no true samples (for recall and F1-score). The choice of zero_division depends on the context and how you want to handle these undefined cases.\n",
    "\n",
    "Typically, there are three common choices for the zero_division parameter:\n",
    "\n",
    "    0: Setting zero_division to 0 assumes that the model performed poorly when it didn't make any positive predictions or when there were no true positive instances. This choice is conservative and penalizes the model in these cases.\n",
    "\n",
    "    1: Setting zero_division to 1 assumes that the model performed well when it didn't make any positive predictions or when there were no true positive instances. This choice is lenient and rewards the model in these cases.\n",
    "\n",
    "    'warn' (default): This option returns 0 for the metric and issues a warning message, drawing your attention to the fact that the metric is ill-defined. This can be helpful during model development and debugging, as it alerts you to potential issues in your data or model.\n",
    "\n",
    "There is no universally \"best\" choice for the zero_division parameter, as it depends on how you want to handle these undefined cases in your specific problem. If you want to be conservative and penalize the model when it doesn't make any positive predictions, set zero_division to 0. If you want to be lenient and reward the model in these cases, set zero_division to 1. If you want to be alerted to potential issues during development, leave it as the default 'warn'.\n",
    "</details>"
   ]
  },
  {
   "cell_type": "code",
   "execution_count": 13,
   "id": "34ba9c78",
   "metadata": {},
   "outputs": [
    {
     "name": "stdout",
     "output_type": "stream",
     "text": [
      "Accuracy: 0.83\n",
      "Precision: 0.69\n",
      "Recall: 0.25\n",
      "F1-score: 0.37\n",
      "              precision    recall  f1-score   support\n",
      "\n",
      "           0       0.84      0.97      0.90      1145\n",
      "           1       0.69      0.25      0.37       278\n",
      "\n",
      "    accuracy                           0.83      1423\n",
      "   macro avg       0.76      0.61      0.64      1423\n",
      "weighted avg       0.81      0.83      0.80      1423\n",
      "\n"
     ]
    }
   ],
   "source": [
    "accuracy = accuracy_score(y_test, y_pred)\n",
    "precision = precision_score(y_test, y_pred, zero_division = 1)\n",
    "recall = recall_score(y_test, y_pred, zero_division = 1)\n",
    "f1 = f1_score(y_test, y_pred, zero_division = 1)\n",
    "\n",
    "print(f\"Accuracy: {accuracy:.2f}\")\n",
    "print(f\"Precision: {precision:.2f}\")\n",
    "print(f\"Recall: {recall:.2f}\")\n",
    "print(f\"F1-score: {f1:.2f}\")\n",
    "\n",
    "# Print a detailed classification report\n",
    "print(classification_report(y_test, y_pred))"
   ]
  },
  {
   "cell_type": "markdown",
   "id": "86f9c62a",
   "metadata": {},
   "source": [
    "# Step 6: Fine-tune the model"
   ]
  },
  {
   "cell_type": "markdown",
   "id": "8996c04d",
   "metadata": {},
   "source": [
    "Fine-tuning a model involves adjusting its hyperparameters to improve performance. This process can be done using different search techniques, such as Grid Search or Randomized Search. In this example, we'll use Grid Search with cross-validation to find the best hyperparameters for our Logistic Regression model."
   ]
  },
  {
   "cell_type": "code",
   "execution_count": 14,
   "id": "2aebcdf9",
   "metadata": {},
   "outputs": [],
   "source": [
    "from sklearn.model_selection import GridSearchCV"
   ]
  },
  {
   "cell_type": "markdown",
   "id": "11ad89e2",
   "metadata": {},
   "source": [
    "1) Define the hyperparameter search space:"
   ]
  },
  {
   "cell_type": "code",
   "execution_count": 15,
   "id": "e359ad8c",
   "metadata": {},
   "outputs": [],
   "source": [
    "# Specify the hyperparameter search space for the logistic regression\n",
    "param_grid = [\n",
    "    {\n",
    "        'solver': ['newton-cg', 'lbfgs', 'sag'],\n",
    "        'penalty': ['l2', None],\n",
    "        'C': [0.001, 0.01, 0.1, 1, 10, 100],\n",
    "    },\n",
    "    {\n",
    "        'solver': ['liblinear'],\n",
    "        'penalty': ['l1', 'l2'],\n",
    "        'C': [0.001, 0.01, 0.1, 1, 10, 100],\n",
    "    },\n",
    "    {\n",
    "        'solver': ['saga'],\n",
    "        'penalty': ['l1', 'l2', 'elasticnet', None],\n",
    "        'C': [0.001, 0.01, 0.1, 1, 10, 100],\n",
    "    },\n",
    "]"
   ]
  },
  {
   "cell_type": "markdown",
   "id": "08b374ad",
   "metadata": {},
   "source": [
    "2) Create a GridSearchCV object with the Logistic Regression model:"
   ]
  },
  {
   "cell_type": "code",
   "execution_count": 16,
   "id": "7cb4eba1",
   "metadata": {},
   "outputs": [],
   "source": [
    "# Create a GridSearchCV object with the logistic regression model and the search space\n",
    "logreg_grid = GridSearchCV(LogisticRegression(max_iter=500), param_grid, scoring='f1', cv=3)"
   ]
  },
  {
   "cell_type": "markdown",
   "id": "b6191da5",
   "metadata": {},
   "source": [
    "3) Perform the grid search and fit the model to the training data:"
   ]
  },
  {
   "cell_type": "code",
   "execution_count": 17,
   "id": "4260229d",
   "metadata": {},
   "outputs": [
    {
     "data": {
      "text/html": [
       "<style>#sk-container-id-1 {color: black;background-color: white;}#sk-container-id-1 pre{padding: 0;}#sk-container-id-1 div.sk-toggleable {background-color: white;}#sk-container-id-1 label.sk-toggleable__label {cursor: pointer;display: block;width: 100%;margin-bottom: 0;padding: 0.3em;box-sizing: border-box;text-align: center;}#sk-container-id-1 label.sk-toggleable__label-arrow:before {content: \"▸\";float: left;margin-right: 0.25em;color: #696969;}#sk-container-id-1 label.sk-toggleable__label-arrow:hover:before {color: black;}#sk-container-id-1 div.sk-estimator:hover label.sk-toggleable__label-arrow:before {color: black;}#sk-container-id-1 div.sk-toggleable__content {max-height: 0;max-width: 0;overflow: hidden;text-align: left;background-color: #f0f8ff;}#sk-container-id-1 div.sk-toggleable__content pre {margin: 0.2em;color: black;border-radius: 0.25em;background-color: #f0f8ff;}#sk-container-id-1 input.sk-toggleable__control:checked~div.sk-toggleable__content {max-height: 200px;max-width: 100%;overflow: auto;}#sk-container-id-1 input.sk-toggleable__control:checked~label.sk-toggleable__label-arrow:before {content: \"▾\";}#sk-container-id-1 div.sk-estimator input.sk-toggleable__control:checked~label.sk-toggleable__label {background-color: #d4ebff;}#sk-container-id-1 div.sk-label input.sk-toggleable__control:checked~label.sk-toggleable__label {background-color: #d4ebff;}#sk-container-id-1 input.sk-hidden--visually {border: 0;clip: rect(1px 1px 1px 1px);clip: rect(1px, 1px, 1px, 1px);height: 1px;margin: -1px;overflow: hidden;padding: 0;position: absolute;width: 1px;}#sk-container-id-1 div.sk-estimator {font-family: monospace;background-color: #f0f8ff;border: 1px dotted black;border-radius: 0.25em;box-sizing: border-box;margin-bottom: 0.5em;}#sk-container-id-1 div.sk-estimator:hover {background-color: #d4ebff;}#sk-container-id-1 div.sk-parallel-item::after {content: \"\";width: 100%;border-bottom: 1px solid gray;flex-grow: 1;}#sk-container-id-1 div.sk-label:hover label.sk-toggleable__label {background-color: #d4ebff;}#sk-container-id-1 div.sk-serial::before {content: \"\";position: absolute;border-left: 1px solid gray;box-sizing: border-box;top: 0;bottom: 0;left: 50%;z-index: 0;}#sk-container-id-1 div.sk-serial {display: flex;flex-direction: column;align-items: center;background-color: white;padding-right: 0.2em;padding-left: 0.2em;position: relative;}#sk-container-id-1 div.sk-item {position: relative;z-index: 1;}#sk-container-id-1 div.sk-parallel {display: flex;align-items: stretch;justify-content: center;background-color: white;position: relative;}#sk-container-id-1 div.sk-item::before, #sk-container-id-1 div.sk-parallel-item::before {content: \"\";position: absolute;border-left: 1px solid gray;box-sizing: border-box;top: 0;bottom: 0;left: 50%;z-index: -1;}#sk-container-id-1 div.sk-parallel-item {display: flex;flex-direction: column;z-index: 1;position: relative;background-color: white;}#sk-container-id-1 div.sk-parallel-item:first-child::after {align-self: flex-end;width: 50%;}#sk-container-id-1 div.sk-parallel-item:last-child::after {align-self: flex-start;width: 50%;}#sk-container-id-1 div.sk-parallel-item:only-child::after {width: 0;}#sk-container-id-1 div.sk-dashed-wrapped {border: 1px dashed gray;margin: 0 0.4em 0.5em 0.4em;box-sizing: border-box;padding-bottom: 0.4em;background-color: white;}#sk-container-id-1 div.sk-label label {font-family: monospace;font-weight: bold;display: inline-block;line-height: 1.2em;}#sk-container-id-1 div.sk-label-container {text-align: center;}#sk-container-id-1 div.sk-container {/* jupyter's `normalize.less` sets `[hidden] { display: none; }` but bootstrap.min.css set `[hidden] { display: none !important; }` so we also need the `!important` here to be able to override the default hidden behavior on the sphinx rendered scikit-learn.org. See: https://github.com/scikit-learn/scikit-learn/issues/21755 */display: inline-block !important;position: relative;}#sk-container-id-1 div.sk-text-repr-fallback {display: none;}</style><div id=\"sk-container-id-1\" class=\"sk-top-container\"><div class=\"sk-text-repr-fallback\"><pre>GridSearchCV(cv=3, estimator=LogisticRegression(max_iter=500),\n",
       "             param_grid=[{&#x27;C&#x27;: [0.001, 0.01, 0.1, 1, 10, 100],\n",
       "                          &#x27;penalty&#x27;: [&#x27;l2&#x27;, None],\n",
       "                          &#x27;solver&#x27;: [&#x27;newton-cg&#x27;, &#x27;lbfgs&#x27;, &#x27;sag&#x27;]},\n",
       "                         {&#x27;C&#x27;: [0.001, 0.01, 0.1, 1, 10, 100],\n",
       "                          &#x27;penalty&#x27;: [&#x27;l1&#x27;, &#x27;l2&#x27;], &#x27;solver&#x27;: [&#x27;liblinear&#x27;]},\n",
       "                         {&#x27;C&#x27;: [0.001, 0.01, 0.1, 1, 10, 100],\n",
       "                          &#x27;penalty&#x27;: [&#x27;l1&#x27;, &#x27;l2&#x27;, &#x27;elasticnet&#x27;, None],\n",
       "                          &#x27;solver&#x27;: [&#x27;saga&#x27;]}],\n",
       "             scoring=&#x27;f1&#x27;)</pre><b>In a Jupyter environment, please rerun this cell to show the HTML representation or trust the notebook. <br />On GitHub, the HTML representation is unable to render, please try loading this page with nbviewer.org.</b></div><div class=\"sk-container\" hidden><div class=\"sk-item sk-dashed-wrapped\"><div class=\"sk-label-container\"><div class=\"sk-label sk-toggleable\"><input class=\"sk-toggleable__control sk-hidden--visually\" id=\"sk-estimator-id-1\" type=\"checkbox\" ><label for=\"sk-estimator-id-1\" class=\"sk-toggleable__label sk-toggleable__label-arrow\">GridSearchCV</label><div class=\"sk-toggleable__content\"><pre>GridSearchCV(cv=3, estimator=LogisticRegression(max_iter=500),\n",
       "             param_grid=[{&#x27;C&#x27;: [0.001, 0.01, 0.1, 1, 10, 100],\n",
       "                          &#x27;penalty&#x27;: [&#x27;l2&#x27;, None],\n",
       "                          &#x27;solver&#x27;: [&#x27;newton-cg&#x27;, &#x27;lbfgs&#x27;, &#x27;sag&#x27;]},\n",
       "                         {&#x27;C&#x27;: [0.001, 0.01, 0.1, 1, 10, 100],\n",
       "                          &#x27;penalty&#x27;: [&#x27;l1&#x27;, &#x27;l2&#x27;], &#x27;solver&#x27;: [&#x27;liblinear&#x27;]},\n",
       "                         {&#x27;C&#x27;: [0.001, 0.01, 0.1, 1, 10, 100],\n",
       "                          &#x27;penalty&#x27;: [&#x27;l1&#x27;, &#x27;l2&#x27;, &#x27;elasticnet&#x27;, None],\n",
       "                          &#x27;solver&#x27;: [&#x27;saga&#x27;]}],\n",
       "             scoring=&#x27;f1&#x27;)</pre></div></div></div><div class=\"sk-parallel\"><div class=\"sk-parallel-item\"><div class=\"sk-item\"><div class=\"sk-label-container\"><div class=\"sk-label sk-toggleable\"><input class=\"sk-toggleable__control sk-hidden--visually\" id=\"sk-estimator-id-2\" type=\"checkbox\" ><label for=\"sk-estimator-id-2\" class=\"sk-toggleable__label sk-toggleable__label-arrow\">estimator: LogisticRegression</label><div class=\"sk-toggleable__content\"><pre>LogisticRegression(max_iter=500)</pre></div></div></div><div class=\"sk-serial\"><div class=\"sk-item\"><div class=\"sk-estimator sk-toggleable\"><input class=\"sk-toggleable__control sk-hidden--visually\" id=\"sk-estimator-id-3\" type=\"checkbox\" ><label for=\"sk-estimator-id-3\" class=\"sk-toggleable__label sk-toggleable__label-arrow\">LogisticRegression</label><div class=\"sk-toggleable__content\"><pre>LogisticRegression(max_iter=500)</pre></div></div></div></div></div></div></div></div></div></div>"
      ],
      "text/plain": [
       "GridSearchCV(cv=3, estimator=LogisticRegression(max_iter=500),\n",
       "             param_grid=[{'C': [0.001, 0.01, 0.1, 1, 10, 100],\n",
       "                          'penalty': ['l2', None],\n",
       "                          'solver': ['newton-cg', 'lbfgs', 'sag']},\n",
       "                         {'C': [0.001, 0.01, 0.1, 1, 10, 100],\n",
       "                          'penalty': ['l1', 'l2'], 'solver': ['liblinear']},\n",
       "                         {'C': [0.001, 0.01, 0.1, 1, 10, 100],\n",
       "                          'penalty': ['l1', 'l2', 'elasticnet', None],\n",
       "                          'solver': ['saga']}],\n",
       "             scoring='f1')"
      ]
     },
     "execution_count": 17,
     "metadata": {},
     "output_type": "execute_result"
    }
   ],
   "source": [
    "# Fit the GridSearchCV object to the training data to find the best hyperparameters\n",
    "logreg_grid.fit(X_train_scaled, y_train)"
   ]
  },
  {
   "cell_type": "markdown",
   "id": "625ebd8a",
   "metadata": {},
   "source": [
    "4) Check the best hyperparameters and their corresponding score:"
   ]
  },
  {
   "cell_type": "code",
   "execution_count": 18,
   "id": "b51d1b2d",
   "metadata": {},
   "outputs": [
    {
     "name": "stdout",
     "output_type": "stream",
     "text": [
      "Best hyperparameters: {'C': 0.001, 'penalty': None, 'solver': 'newton-cg'}\n",
      "Best F1-score: 0.41\n"
     ]
    }
   ],
   "source": [
    "# Print the best hyperparameters and their corresponding score\n",
    "print(f\"Best hyperparameters: {logreg_grid.best_params_}\")\n",
    "print(f\"Best F1-score: {logreg_grid.best_score_:.2f}\")"
   ]
  },
  {
   "cell_type": "markdown",
   "id": "5c273014",
   "metadata": {},
   "source": [
    "5) Use the best model for predictions and evaluation:"
   ]
  },
  {
   "cell_type": "code",
   "execution_count": 19,
   "id": "034d7557",
   "metadata": {},
   "outputs": [
    {
     "name": "stdout",
     "output_type": "stream",
     "text": [
      "Accuracy: 0.83\n",
      "Precision: 0.69\n",
      "Recall: 0.25\n",
      "F1-score: 0.37\n",
      "              precision    recall  f1-score   support\n",
      "\n",
      "           0       0.84      0.97      0.90      1145\n",
      "           1       0.69      0.25      0.37       278\n",
      "\n",
      "    accuracy                           0.83      1423\n",
      "   macro avg       0.76      0.61      0.64      1423\n",
      "weighted avg       0.81      0.83      0.80      1423\n",
      "\n"
     ]
    }
   ],
   "source": [
    "# Use the best logistic regression model for predictions\n",
    "best_logreg = logreg_grid.best_estimator_\n",
    "y_pred = best_logreg.predict(X_test_scaled)\n",
    "\n",
    "# Evaluate the model's performance using various metrics\n",
    "accuracy = accuracy_score(y_test, y_pred)\n",
    "precision = precision_score(y_test, y_pred, zero_division = 1)\n",
    "recall = recall_score(y_test, y_pred, zero_division = 1)\n",
    "f1 = f1_score(y_test, y_pred, zero_division = 1)\n",
    "\n",
    "print(f\"Accuracy: {accuracy:.2f}\")\n",
    "print(f\"Precision: {precision:.2f}\")\n",
    "print(f\"Recall: {recall:.2f}\")\n",
    "print(f\"F1-score: {f1:.2f}\")\n",
    "\n",
    "# Print a detailed classification report\n",
    "print(classification_report(y_test, y_pred))\n"
   ]
  },
  {
   "cell_type": "markdown",
   "id": "c5949b64",
   "metadata": {},
   "source": [
    "6) Evaluate the best model"
   ]
  },
  {
   "cell_type": "code",
   "execution_count": 20,
   "id": "0d4059f6",
   "metadata": {},
   "outputs": [
    {
     "name": "stdout",
     "output_type": "stream",
     "text": [
      "              precision    recall  f1-score   support\n",
      "\n",
      "           0       0.84      0.97      0.90      1145\n",
      "           1       0.69      0.25      0.37       278\n",
      "\n",
      "    accuracy                           0.83      1423\n",
      "   macro avg       0.76      0.61      0.64      1423\n",
      "weighted avg       0.81      0.83      0.80      1423\n",
      "\n"
     ]
    }
   ],
   "source": [
    "from sklearn.metrics import classification_report\n",
    "\n",
    "best_model = logreg_grid.best_estimator_\n",
    "y_pred = best_model.predict(X_test_scaled)\n",
    "\n",
    "print(classification_report(y_test, y_pred))\n"
   ]
  },
  {
   "cell_type": "markdown",
   "id": "f19f8d57",
   "metadata": {},
   "source": [
    "7) Analyze the confusion matrix:"
   ]
  },
  {
   "cell_type": "code",
   "execution_count": 21,
   "id": "93491b4f",
   "metadata": {},
   "outputs": [
    {
     "data": {
      "image/png": "[encoded data removed]",
      "text/plain": [
       "<Figure size 640x480 with 2 Axes>"
      ]
     },
     "metadata": {},
     "output_type": "display_data"
    }
   ],
   "source": [
    "from sklearn.metrics import confusion_matrix\n",
    "import seaborn as sns\n",
    "import matplotlib.pyplot as plt\n",
    "\n",
    "conf_mat = confusion_matrix(y_test, y_pred)\n",
    "sns.heatmap(conf_mat, annot=True, cmap='Blues', fmt='g')\n",
    "plt.xlabel('Predicted')\n",
    "plt.ylabel('Actual')\n",
    "plt.show()"
   ]
  },
  {
   "cell_type": "markdown",
   "id": "3df995f3",
   "metadata": {},
   "source": [
    "8) Inspect the feature importances"
   ]
  },
  {
   "cell_type": "code",
   "execution_count": 22,
   "id": "debf1caf",
   "metadata": {},
   "outputs": [
    {
     "data": {
      "image/png": "[encoded data removed]",
      "text/plain": [
       "<Figure size 1000x500 with 1 Axes>"
      ]
     },
     "metadata": {},
     "output_type": "display_data"
    }
   ],
   "source": [
    "feature_importances = pd.Series(best_model.coef_[0], index=X.columns)\n",
    "feature_importances.sort_values(ascending=False, inplace=True)\n",
    "\n",
    "plt.figure(figsize=(10, 5))\n",
    "feature_importances.plot(kind='bar')\n",
    "plt.title('Feature Importances')\n",
    "plt.show()"
   ]
  }
 ],
 "metadata": {
  "kernelspec": {
   "display_name": "Python 3 (ipykernel)",
   "language": "python",
   "name": "python3"
  },
  "language_info": {
   "codemirror_mode": {
    "name": "ipython",
    "version": 3
   },
   "file_extension": ".py",
   "mimetype": "text/x-python",
   "name": "python",
   "nbconvert_exporter": "python",
   "pygments_lexer": "ipython3",
   "version": "3.10.9"
  }
 },
 "nbformat": 4,
 "nbformat_minor": 5
}
